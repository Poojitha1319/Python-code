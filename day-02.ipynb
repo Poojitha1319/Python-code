{
 "cells": [
  {
   "cell_type": "code",
   "execution_count": 6,
   "id": "01a6fe46-4035-4eea-9839-fcfc3d86afdf",
   "metadata": {},
   "outputs": [
    {
     "name": "stdin",
     "output_type": "stream",
     "text": [
      " 3\n"
     ]
    },
    {
     "name": "stdout",
     "output_type": "stream",
     "text": [
      "A is a number\n"
     ]
    }
   ],
   "source": [
    "#2 question\n",
    "a=input()\n",
    "if a.isupper():\n",
    "    print(\"A is a upper case character\")\n",
    "elif  a.islower():\n",
    "    print(\"A is a lower case character\")\n",
    "elif a.isnumeric():\n",
    "    print(\"A is a number\")\n",
    "else:\n",
    "    print(\"A is a special character\")"
   ]
  },
  {
   "cell_type": "code",
   "execution_count": 13,
   "id": "4864b6be-77df-4c51-b92f-d67cf281f325",
   "metadata": {},
   "outputs": [
    {
     "name": "stdin",
     "output_type": "stream",
     "text": [
      " abcba\n"
     ]
    },
    {
     "name": "stdout",
     "output_type": "stream",
     "text": [
      "pallindrome\n"
     ]
    }
   ],
   "source": [
    "# write a program to check whether a string is palindrome or not\n",
    "a=input()\n",
    "flag=0\n",
    "for i in range(0,int(len(a)/2)):\n",
    "    if a[i] != a[(i+1)*-1]:\n",
    "        flag=1\n",
    "        break\n",
    "if flag:\n",
    "    print(\"not pallindrome\")\n",
    "else:\n",
    "    print(\"pallindrome\")\n",
    "    "
   ]
  },
  {
   "cell_type": "code",
   "execution_count": 11,
   "id": "b273353a-7edb-4e79-bd02-25976ef5fdee",
   "metadata": {},
   "outputs": [
    {
     "name": "stdout",
     "output_type": "stream",
     "text": [
      "original number: 12345\n",
      "reversed number: 54321\n"
     ]
    }
   ],
   "source": [
    "# write a program to reverse a digits of number\n",
    "def reverse_digits(number):\n",
    "    number_str=str(number)\n",
    "    reversed_str=number_str[::-i]\n",
    "    reversed_number=int(reversed_str)\n",
    "    return reversed_number\n",
    "number=12345\n",
    "reversed_number=reverse_digits(number)\n",
    "print(\"original number:\",number)\n",
    "print(\"reversed number:\",reversed_number)"
   ]
  },
  {
   "cell_type": "code",
   "execution_count": 36,
   "id": "21eb7abf-bf4c-4836-bc15-e38137ee0792",
   "metadata": {},
   "outputs": [
    {
     "name": "stdin",
     "output_type": "stream",
     "text": [
      " 4\n"
     ]
    },
    {
     "name": "stdout",
     "output_type": "stream",
     "text": [
      "A is not a prime\n"
     ]
    }
   ],
   "source": [
    "# write a program for prime number\n",
    "a=int(input())\n",
    "\n",
    "for i in range(2,int(a/2)+1):\n",
    "    if  a%i==0:\n",
    "        print(\"A is not a prime\")\n",
    "        break\n",
    "else:\n",
    "    print(\"A is a prime\")\n",
    "        "
   ]
  },
  {
   "cell_type": "markdown",
   "id": "5e93545b-64ca-416b-9d94-500d24e22522",
   "metadata": {},
   "source": [
    "file handling\n",
    "->create\n",
    "->read\n",
    "->update\n",
    "->delete\n",
    "CRUD Operation\n"
   ]
  },
  {
   "cell_type": "code",
   "execution_count": 27,
   "id": "890f48c4-7f41-4a88-bed1-0a2bfee93d70",
   "metadata": {},
   "outputs": [
    {
     "ename": "SyntaxError",
     "evalue": "invalid syntax (3696622299.py, line 2)",
     "output_type": "error",
     "traceback": [
      "\u001b[1;36m  Cell \u001b[1;32mIn[27], line 2\u001b[1;36m\u001b[0m\n\u001b[1;33m    if__name__=='__main__':\u001b[0m\n\u001b[1;37m                          ^\u001b[0m\n\u001b[1;31mSyntaxError\u001b[0m\u001b[1;31m:\u001b[0m invalid syntax\n"
     ]
    }
   ],
   "source": [
    "#files\n",
    "if__name__=='__main__':\n",
    "    filename =\"example.txt\"\n",
    "    new_filename = \"new_example.txt\"\n",
    "\n",
    "    create_file(filename)\n",
    "    read_file(filename)\n",
    "    append_file(filename,\"this is some additional text.\\n\")\n",
    "    read_file(filename)\n",
    "    rename_file(filename,new_filename)\n",
    "    read_file(new_filename)\n",
    "    #delete_file(new_filename)"
   ]
  },
  {
   "cell_type": "code",
   "execution_count": 34,
   "id": "18c74984-1351-4dd3-bbaa-74c5b2a90b63",
   "metadata": {},
   "outputs": [],
   "source": [
    "import os\n",
    "with open(\"file1.txt\",'w')as f:\n",
    "    f.write(\"this is first text file\\n\")\n",
    "    f.close()\n",
    "        \n"
   ]
  },
  {
   "cell_type": "code",
   "execution_count": 35,
   "id": "cb90a1f2-89b8-44dd-9226-21ce7c92e9b4",
   "metadata": {},
   "outputs": [],
   "source": [
    "import os\n",
    "with open(\"file1.txt\",'a')as f:\n",
    "     f.write(\"this is second text file\")\n",
    "     f.close()"
   ]
  },
  {
   "cell_type": "code",
   "execution_count": 15,
   "id": "0e7001aa-2c68-4f2a-9130-9ecfac2804ac",
   "metadata": {},
   "outputs": [],
   "source": [
    "import os\n",
    "os.remove(\"file1.txt\")\n"
   ]
  },
  {
   "cell_type": "code",
   "execution_count": 31,
   "id": "3aa0277e-4ec1-417f-b3d9-c4f97cf19b38",
   "metadata": {},
   "outputs": [
    {
     "name": "stdout",
     "output_type": "stream",
     "text": [
      "this is first text file\n",
      "111\n",
      "this is second text file\n",
      "111\n"
     ]
    }
   ],
   "source": [
    "import os\n",
    "with open(\"file1.txt\",'r') as f:\n",
    "    for a in f.read().split(\"\\n\"):\n",
    "        print(a)\n",
    "        print(\"111\")\n",
    "    f.close"
   ]
  },
  {
   "cell_type": "code",
   "execution_count": 36,
   "id": "3336ed4d-e127-4513-8808-26529b4d8415",
   "metadata": {},
   "outputs": [
    {
     "name": "stdout",
     "output_type": "stream",
     "text": [
      "t\n",
      "111\n",
      "h\n",
      "111\n",
      "i\n",
      "111\n",
      "s\n",
      "111\n",
      " \n",
      "111\n",
      "i\n",
      "111\n",
      "s\n",
      "111\n",
      " \n",
      "111\n",
      "f\n",
      "111\n",
      "i\n",
      "111\n",
      "r\n",
      "111\n",
      "s\n",
      "111\n",
      "t\n",
      "111\n",
      " \n",
      "111\n",
      "t\n",
      "111\n",
      "e\n",
      "111\n",
      "x\n",
      "111\n",
      "t\n",
      "111\n",
      " \n",
      "111\n",
      "f\n",
      "111\n",
      "i\n",
      "111\n",
      "l\n",
      "111\n",
      "e\n",
      "111\n",
      "\n",
      "\n",
      "111\n",
      "t\n",
      "111\n",
      "h\n",
      "111\n",
      "i\n",
      "111\n",
      "s\n",
      "111\n",
      " \n",
      "111\n",
      "i\n",
      "111\n",
      "s\n",
      "111\n",
      " \n",
      "111\n",
      "s\n",
      "111\n",
      "e\n",
      "111\n",
      "c\n",
      "111\n",
      "o\n",
      "111\n",
      "n\n",
      "111\n",
      "d\n",
      "111\n",
      " \n",
      "111\n",
      "t\n",
      "111\n",
      "e\n",
      "111\n",
      "x\n",
      "111\n",
      "t\n",
      "111\n",
      " \n",
      "111\n",
      "f\n",
      "111\n",
      "i\n",
      "111\n",
      "l\n",
      "111\n",
      "e\n",
      "111\n"
     ]
    }
   ],
   "source": [
    "import os\n",
    "with open(\"file1.txt\",'r') as f:\n",
    "    for a in f.read():\n",
    "        print(a)\n",
    "        print(\"111\")\n",
    "    f.close"
   ]
  },
  {
   "cell_type": "markdown",
   "id": "64e0da0c-f7cc-4d49-bc70-36648a88bfd3",
   "metadata": {},
   "source": [
    "w->write\n",
    "r->read\n",
    "a->append\n",
    "w+->write and read\n",
    "r+->read and write\n",
    "a+->append and read\n"
   ]
  },
  {
   "cell_type": "code",
   "execution_count": 39,
   "id": "88d09084-8453-4964-bfe7-96b0c880bcb3",
   "metadata": {},
   "outputs": [],
   "source": [
    "#CREATE A FILE NAMED AS FRUIT NAME AND ADD THE FRUIT NAMES BY TAKING INPUT FROM THE USER.\n",
    "import os\n",
    "with open(\"fruitname.txt\",'w')as f:\n",
    "    f.write(\"fruit list\\n\")\n",
    "    f.close()\n",
    "\n",
    "import os\n",
    "with open(\"fruitname.txt\",'a')as f:\n",
    "     f.write(\"apple,banana,mango,grapes\\n\")\n",
    "     f.close()\n",
    "\n",
    "import os\n",
    "with open(\"fruitname.txt\",\"r+\")as f:\n",
    "    data=f.readlines()\n",
    "    for i in range(len(data)):\n",
    "        if data[i].strip() == 'banana':\n",
    "            data[i] = input(\"enter the"
   ]
  },
  {
   "cell_type": "code",
   "execution_count": null,
   "id": "e8c624e7-675a-42db-996f-266caa95c957",
   "metadata": {},
   "outputs": [],
   "source": []
  }
 ],
 "metadata": {
  "kernelspec": {
   "display_name": "Python 3 (ipykernel)",
   "language": "python",
   "name": "python3"
  },
  "language_info": {
   "codemirror_mode": {
    "name": "ipython",
    "version": 3
   },
   "file_extension": ".py",
   "mimetype": "text/x-python",
   "name": "python",
   "nbconvert_exporter": "python",
   "pygments_lexer": "ipython3",
   "version": "3.12.3"
  }
 },
 "nbformat": 4,
 "nbformat_minor": 5
}

{
 "cells": [
  {
   "cell_type": "markdown",
   "id": "83dc4ab5-33d4-4833-a88c-c9cab4b192b8",
   "metadata": {},
   "source": [
    "# Binary search\n",
    "1.sort in ascending order\n",
    "2.find the mid\n",
    "3.compare with search element\n",
    "4.if search is lesser than mid move towards the right\n",
    "5.if search is geater than mid move towards the left"
   ]
  },
  {
   "cell_type": "code",
   "execution_count": 13,
   "id": "19ebda4f-5e01-4db4-b6df-8d1e1037ff31",
   "metadata": {},
   "outputs": [
    {
     "name": "stdout",
     "output_type": "stream",
     "text": [
      "[9, 13, 21, 23, 24, 35, 43, 44, 45, 46, 47, 48, 49, 54, 57, 59, 65, 66, 67, 68, 73, 78, 86, 87, 89, 92, 95, 97]\n"
     ]
    },
    {
     "name": "stdin",
     "output_type": "stream",
     "text": [
      " 87\n"
     ]
    },
    {
     "name": "stdout",
     "output_type": "stream",
     "text": [
      "index of element is 23\n",
      "low 0 high 28 mid 14\n",
      "low 15 high 28 mid 21\n",
      "low 22 high 28 mid 25\n",
      "low 22 high 24 mid 23\n",
      "element found at 23\n"
     ]
    }
   ],
   "source": [
    "l=[23,45,67,87,65,43,54,35,21,9,89,78,97,68,95,57,48,86,73,92,13,66,46,44,24,47,49,59]\n",
    "l.sort()\n",
    "print(l)\n",
    "low=0\n",
    "high=len(l)\n",
    "src=int(input())\n",
    "try:\n",
    "    print(\"index of element is\",l.index(src))\n",
    "except:\n",
    "    print(\"item not in list\")\n",
    "flag=0\n",
    "while low<=high:\n",
    "    mid=int((low+(high-low)/2))\n",
    "    print(\"low\",low,\"high\",high,\"mid\",mid)\n",
    "    if src<l[mid]:\n",
    "        high=mid-1\n",
    "    elif src>l[mid]:\n",
    "        low=mid+1\n",
    "    else:\n",
    "        flag=1\n",
    "        break;\n",
    "\n",
    "if flag==1:\n",
    "    print(\"element found at\",mid)\n",
    "else:\n",
    "    print(\"element not found\")\n"
   ]
  },
  {
   "cell_type": "code",
   "execution_count": 21,
   "id": "022665fe-8c58-4903-a7c3-9810b3ddc652",
   "metadata": {},
   "outputs": [
    {
     "name": "stdin",
     "output_type": "stream",
     "text": [
      " ()\n"
     ]
    },
    {
     "name": "stdout",
     "output_type": "stream",
     "text": [
      "valid string\n",
      "()\n"
     ]
    }
   ],
   "source": [
    "a=input()\n",
    "if a=='(' ')':\n",
    "        print(\"valid string\")\n",
    "else:\n",
    "    print(\"invalid string\")\n",
    "\n",
    "print(a)"
   ]
  },
  {
   "cell_type": "code",
   "execution_count": 1,
   "id": "550151ae-96fc-48f2-93b3-9e06d4938aec",
   "metadata": {},
   "outputs": [
    {
     "name": "stdin",
     "output_type": "stream",
     "text": [
      " ()\n"
     ]
    },
    {
     "name": "stdout",
     "output_type": "stream",
     "text": [
      "valid string\n"
     ]
    }
   ],
   "source": [
    "#important\n",
    "s=input()\n",
    "x=y=z=0\n",
    "for c in s:\n",
    "    match (c):\n",
    "        case'(':x+=1\n",
    "        case')':x-=1\n",
    "        case'{':y+=1\n",
    "        case'}':y-=1\n",
    "        case'[':z+=1\n",
    "        case']':z-=1\n",
    "        case _:continue\n",
    "\n",
    "if x+y+z == 0:\n",
    "    print(\"valid string\")\n",
    "else:\n",
    "    print(\"invalid string\")      "
   ]
  },
  {
   "cell_type": "code",
   "execution_count": 7,
   "id": "b8633849-bc12-4c07-9db2-4afb76357d49",
   "metadata": {},
   "outputs": [
    {
     "name": "stdout",
     "output_type": "stream",
     "text": [
      "item added to stack\n",
      "item added to stack\n",
      "item added to stack\n",
      "[2, 3, 4]\n",
      "item removed from stack\n",
      "[2, 3]\n",
      "item added to stack\n",
      "[2, 3, 9]\n"
     ]
    }
   ],
   "source": [
    "# STACK\n",
    "def add(e):\n",
    "    s.append(e)\n",
    "    print(\"item added to stack\")\n",
    "\n",
    "def delete():\n",
    "    s.pop()\n",
    "    print(\"item removed from stack\")\n",
    "\n",
    "s=[]\n",
    "add(2)\n",
    "add(3)\n",
    "add(4)\n",
    "print(s)\n",
    "\n",
    "delete()\n",
    "print(s)\n",
    "add(9)\n",
    "print(s)"
   ]
  },
  {
   "cell_type": "code",
   "execution_count": 21,
   "id": "c1d91c9b-4f5b-4645-ae2c-5ba5dd93291a",
   "metadata": {},
   "outputs": [
    {
     "name": "stdout",
     "output_type": "stream",
     "text": [
      "item added to queue\n",
      "item added to queue\n",
      "item added to queue\n",
      "item added to queue\n",
      "item added to queue\n",
      "[2, 3, 4, 5, 6]\n",
      "item removed from queue\n",
      "[3, 4, 5, 6]\n",
      "item removed from queue\n",
      "[4, 5, 6]\n",
      "item added to queue\n",
      "[4, 5, 6, 9]\n"
     ]
    }
   ],
   "source": [
    "# QUEUE\n",
    "def add(e):\n",
    "    q.append(e)\n",
    "    print(\"item added to queue\")\n",
    "\n",
    "def delete():\n",
    "    q.pop(0)\n",
    "    print(\"item removed from queue\")\n",
    "\n",
    "q=[]\n",
    "add(2)\n",
    "add(3)\n",
    "add(4)\n",
    "add(5)\n",
    "add(6)\n",
    "print(q)\n",
    "delete()\n",
    "print(q)\n",
    "delete()\n",
    "print(q)\n",
    "add(9)\n",
    "print(q)"
   ]
  },
  {
   "cell_type": "code",
   "execution_count": null,
   "id": "e2ecc914-0a1d-4dba-86c4-ce3719c6e62c",
   "metadata": {},
   "outputs": [],
   "source": []
  },
  {
   "cell_type": "code",
   "execution_count": null,
   "id": "9e8456de-0001-4235-92f0-e7d702a121f8",
   "metadata": {},
   "outputs": [],
   "source": []
  }
 ],
 "metadata": {
  "kernelspec": {
   "display_name": "Python 3 (ipykernel)",
   "language": "python",
   "name": "python3"
  },
  "language_info": {
   "codemirror_mode": {
    "name": "ipython",
    "version": 3
   },
   "file_extension": ".py",
   "mimetype": "text/x-python",
   "name": "python",
   "nbconvert_exporter": "python",
   "pygments_lexer": "ipython3",
   "version": "3.12.3"
  }
 },
 "nbformat": 4,
 "nbformat_minor": 5
}

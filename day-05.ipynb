{
 "cells": [
  {
   "cell_type": "markdown",
   "id": "7f19dcc8-2001-4fce-a45f-c1b6c7be2f97",
   "metadata": {},
   "source": [
    "       TIME COMPLEXITY\n",
    "1.constant time-o(1)->best time complexity\n",
    "2.linear-o(n)\n",
    "3.quadratic-o(n^2)\n",
    "4.exponential-o(n^m)\n",
    "5.factorial-o(n!)->worst time complexity\n",
    "\n",
    "        SPACE COMPLEXITY \n",
    "1.constant space->there shd be no extra space\n",
    "2.linear space->can create a single copy"
   ]
  },
  {
   "cell_type": "code",
   "execution_count": 10,
   "id": "622223a5-d94e-4dca-bda5-1dd293ca903e",
   "metadata": {},
   "outputs": [
    {
     "name": "stdout",
     "output_type": "stream",
     "text": [
      "19\n"
     ]
    }
   ],
   "source": [
    "# Find the maximum sum of any 3 consecutive elements of this array.\n",
    "L=[2,4,6,1,3,7,4,6,9,3,6,8,3,6,4,1,3,9,6,4,5,6,8,3,7,3,6,8]\n",
    "max=0\n",
    "for x in range(0,len(L)-2):\n",
    "    sum=L[x]+L[x+1]+L[x+2]\n",
    "    if(max<sum):\n",
    "        max=sum\n",
    "print(max)"
   ]
  },
  {
   "cell_type": "code",
   "execution_count": 39,
   "id": "437582e9-54b1-4351-bdef-e5f8a235e465",
   "metadata": {},
   "outputs": [
    {
     "name": "stdout",
     "output_type": "stream",
     "text": [
      "38\n"
     ]
    }
   ],
   "source": [
    "# Find the maximum sum of any 3 consecutive elements of this array.\n",
    "L=[2,4,6,1,3,7,4,6,9,3,6,8,3,6,4,1,3,9,6,4,5,6,8,3,7,3,6,8]\n",
    "max=0\n",
    "for x in range(0,len(L)-5):\n",
    "    sum=L[x]+L[x+1]+L[x+2]+L[x+3]+L[x+4]+L[x+5]\n",
    "    if(max<sum):\n",
    "        max=sum\n",
    "print(max)"
   ]
  },
  {
   "cell_type": "code",
   "execution_count": 58,
   "id": "ebba5667-43ea-41e9-b241-c08d73f93e5f",
   "metadata": {},
   "outputs": [
    {
     "name": "stdin",
     "output_type": "stream",
     "text": [
      "enter consecutive number: 3\n"
     ]
    },
    {
     "name": "stdout",
     "output_type": "stream",
     "text": [
      "23\n"
     ]
    }
   ],
   "source": [
    "# Find the maximum sum of any 3 consecutive elements of this array.              ->o(n*m)\n",
    "L=[2,4,6,1,3,7,4,6,9,3,6,8,3,6,4,1,3,9,6,4,5,6,8,3,7,3,6,8,5,9,6,7,2,\n",
    "   4,6,1,3,7,4,6,9,3,6,8,3,6,4,1,3,9,6,4,5,6,4,6,8,3,6,\n",
    "   4,1,3,6,9,6,4,5,6,8,3,7,3,6,8,9,6,4]\n",
    "max=0\n",
    "con=int(input(\"enter consecutive number:\"))\n",
    "for x in range(0,len(L)-con):\n",
    "    s=0\n",
    "    for j in range(0,con):\n",
    "        s=s+L[x+j]\n",
    "    if max<s: \n",
    "        max=s\n",
    "print(max)"
   ]
  },
  {
   "cell_type": "code",
   "execution_count": 66,
   "id": "8c5a4d97-5865-4f64-8161-d08dd73b2d82",
   "metadata": {},
   "outputs": [
    {
     "name": "stdin",
     "output_type": "stream",
     "text": [
      "enter consecutive number: 3\n"
     ]
    },
    {
     "name": "stdout",
     "output_type": "stream",
     "text": [
      "23\n"
     ]
    }
   ],
   "source": [
    "# Find the maximum sum of any 3 consecutive elements of this array.              ->o(n*m)\n",
    "L=[2,4,6,1,3,7,4,6,9,3,6,8,3,6,4,1,3,9,6,4,5,6,8,3,7,3,6,8,5,9,6,7,2,\n",
    "   4,6,1,3,7,4,6,9,3,6,8,3,6,4,1,3,9,6,4,5,6,4,6,8,3,6,\n",
    "   4,1,3,6,9,6,4,5,6,8,3,7,3,6,8,9,6,4]\n",
    "max=0\n",
    "con=int(input(\"enter consecutive number:\"))\n",
    "for x in range(0,len(L)-con):\n",
    "    if max<s: \n",
    "        max=s\n",
    "print(max)"
   ]
  },
  {
   "cell_type": "code",
   "execution_count": 69,
   "id": "7850d0c9-e410-4865-b4f4-1f2a29c2fb35",
   "metadata": {},
   "outputs": [
    {
     "name": "stdin",
     "output_type": "stream",
     "text": [
      "enter consecutive number: 3\n"
     ]
    },
    {
     "name": "stdout",
     "output_type": "stream",
     "text": [
      "47\n"
     ]
    }
   ],
   "source": [
    "# Find the maximum sum of any 3 consecutive elements of this array.              ->o(n*m)\n",
    "l=[2,4,6,1,3,7,4,6,9,3,6,8,3,6,4,1,3,9,6,4,5,6,8,3,7,3,6,8,5,9,6,7,2,\n",
    "   4,6,1,3,7,4,6,9,3,6,8,3,6,4,1,3,9,6,4,5,6,4,6,8,3,6,\n",
    "   4,1,3,6,9,6,4,5,6,8,3,7,3,6,8,9,6,4]\n",
    "max=0\n",
    "con=int(input(\"enter consecutive number:\"))\n",
    "for i in range(0,con):\n",
    "    sum=sum+l[i]\n",
    "for x in range(0,len(l)-con-1):\n",
    "    if max<sum:\n",
    "        max=sum\n",
    "        sum=sum+l[x+con]-l[x]\n",
    "print(max)"
   ]
  },
  {
   "cell_type": "code",
   "execution_count": 1,
   "id": "b56eb9e0-d422-4223-88b9-ab24deeb2254",
   "metadata": {},
   "outputs": [
    {
     "name": "stdin",
     "output_type": "stream",
     "text": [
      "enter the input: 3\n"
     ]
    },
    {
     "name": "stdout",
     "output_type": "stream",
     "text": [
      "12\n"
     ]
    }
   ],
   "source": [
    "# Find the maximum sum of any 3 consecutive elements of this array.              ->o(n*m)\n",
    "l=[2,4,6,1,3,7,4,6,9,3,6,8,3,6,4,1,3,9,6,4,5,6,8,3,7,3,6,8,5,9,6,7,2,\n",
    "   4,6,1,3,7,4,6,9,3,6,8,3,6,4,1,3,9,6,4,5,6,4,6,8,3,6,\n",
    "   4,1,3,6,9,6,4,5,6,8,3,7,3,6,8,9,6,4]\n",
    "max=sum=0\n",
    "n=int(input(\"enter the input:\"))\n",
    "for i in range(0,n):\n",
    "    sum=sum+l[i]\n",
    "for x in range(0,len(l)-n-1):\n",
    "    if max<sum:\n",
    "        max=sum\n",
    "        sum=sum+l[x+n]-l[x]\n",
    "print(max)\n"
   ]
  },
  {
   "cell_type": "code",
   "execution_count": 4,
   "id": "307e4f60-4489-49f6-8bd1-48ac5915114b",
   "metadata": {},
   "outputs": [
    {
     "name": "stdout",
     "output_type": "stream",
     "text": [
      "[1, 2, 3, 4, 5, 6, 7, 8, 9]\n"
     ]
    }
   ],
   "source": [
    "l=[3,5,2,6,7,4,8,1,9]\n",
    "l.sort()\n",
    "print(l)"
   ]
  },
  {
   "cell_type": "code",
   "execution_count": 7,
   "id": "ccd676b6-4c1e-4803-86dd-ce51014a377b",
   "metadata": {},
   "outputs": [
    {
     "name": "stdout",
     "output_type": "stream",
     "text": [
      "[1, 2, 3, 4, 5, 6, 7, 8, 9]\n"
     ]
    }
   ],
   "source": [
    "l=[3,5,2,6,7,4,8,1,9]\n",
    "for i in range(0,len(l)):\n",
    "    for j in range(i+1,len(l)-1):\n",
    "        if l[i]>l[j]:\n",
    "            l[i],l[j]=l[j],l[i]\n",
    "\n",
    "print(l)"
   ]
  },
  {
   "cell_type": "code",
   "execution_count": 11,
   "id": "6aa27252-c4a8-4984-b4db-16009f61ed70",
   "metadata": {},
   "outputs": [
    {
     "name": "stdout",
     "output_type": "stream",
     "text": [
      "[1, 4, 5, 6, 7, 8, 9]\n"
     ]
    }
   ],
   "source": [
    "arr=[5,4,8,1,9,6,7]\n",
    "for i in range(0,len(arr)):\n",
    "    for j in range(0,len(arr)-1):\n",
    "        if arr[j]>arr[j+1]:\n",
    "            temp=arr[j]\n",
    "            arr[j]=arr[j+1]\n",
    "            arr[j+1]=temp\n",
    "        \n",
    "print(arr)"
   ]
  },
  {
   "cell_type": "code",
   "execution_count": 17,
   "id": "42d45c83-4079-4f43-b507-d4bb7bcd4c17",
   "metadata": {},
   "outputs": [
    {
     "name": "stdout",
     "output_type": "stream",
     "text": [
      "[1, 4, 5, 6, 7, 8, 9]\n"
     ]
    }
   ],
   "source": [
    "#insertion sort\n",
    "arr=[5,4,8,1,9,6,7]\n",
    "for i in range(1,len(arr)):\n",
    "    temp=arr[i]\n",
    "    j=i-1\n",
    "    while j>=0 and temp<arr[j]:\n",
    "        arr[j+1]=arr[j]\n",
    "        j -=1\n",
    "    arr[j+1]=temp\n",
    "\n",
    "print(arr)"
   ]
  },
  {
   "cell_type": "code",
   "execution_count": 29,
   "id": "1b11707c-d174-4c87-bc41-0972e59913f9",
   "metadata": {},
   "outputs": [
    {
     "name": "stdout",
     "output_type": "stream",
     "text": [
      "[1, 4, 5, 6, 7, 8, 9]\n"
     ]
    }
   ],
   "source": [
    "#selection sort\n",
    "arr=[5,4,8,1,9,6,7]\n",
    "for i in range(0,len(arr)):\n",
    "    min_idx=i\n",
    "    for j in range(i+1,len(arr)):\n",
    "        if arr[min_idx]>arr[j]:\n",
    "            min_idx=j\n",
    "    temp=arr[i]\n",
    "    arr[i]=arr[min_idx]\n",
    "    arr[min_idx]=temp\n",
    "\n",
    "print(arr)"
   ]
  },
  {
   "cell_type": "code",
   "execution_count": 19,
   "id": "38aa2d81-bb7a-41a6-a5f8-5f661979b696",
   "metadata": {},
   "outputs": [
    {
     "name": "stdout",
     "output_type": "stream",
     "text": [
      "2\n"
     ]
    }
   ],
   "source": [
    "#lowest element of array\n",
    "arr=[9,5,6,2,3,4]     \n",
    "m=arr[0]\n",
    "for i in range(len(arr)):\n",
    "    if arr[i]<m:\n",
    "        m=arr[i]\n",
    "print(m)"
   ]
  },
  {
   "cell_type": "code",
   "execution_count": 31,
   "id": "584f59cd-45f9-41a5-97c4-833e9a9e0a0e",
   "metadata": {},
   "outputs": [
    {
     "name": "stdout",
     "output_type": "stream",
     "text": [
      "0 0 0\n",
      "0 1 1\n",
      "0 2 1\n",
      "0 3 3\n",
      "0 4 3\n",
      "0 5 3\n",
      "[2, 5, 6, 9, 3, 4]\n",
      "1 1 1\n",
      "1 2 1\n",
      "1 3 1\n",
      "1 4 4\n",
      "1 5 4\n",
      "[2, 3, 6, 9, 5, 4]\n",
      "2 2 2\n",
      "2 3 2\n",
      "2 4 4\n",
      "2 5 5\n",
      "[2, 3, 4, 9, 5, 6]\n",
      "3 3 3\n",
      "3 4 4\n",
      "3 5 4\n",
      "[2, 3, 4, 5, 9, 6]\n",
      "4 4 4\n",
      "4 5 5\n",
      "[2, 3, 4, 5, 6, 9]\n",
      "5 5 5\n",
      "[2, 3, 4, 5, 6, 9]\n",
      "[2, 3, 4, 5, 6, 9]\n"
     ]
    }
   ],
   "source": [
    "#selection sort\n",
    "arr=[9,5,6,2,3,4]\n",
    "for j in range(0,len(arr)):\n",
    "    a=j\n",
    "    for i in range(j,len(arr)):\n",
    "        if arr[i]<arr[a]:\n",
    "            a=i\n",
    "        print(j,i,a)\n",
    "    arr[a],arr[j]=arr[j],arr[a]\n",
    "    print(arr)\n",
    "\n",
    "print(arr)"
   ]
  },
  {
   "cell_type": "code",
   "execution_count": null,
   "id": "67b63cad-a29b-4018-ab71-e77ae6a0e977",
   "metadata": {},
   "outputs": [],
   "source": []
  }
 ],
 "metadata": {
  "kernelspec": {
   "display_name": "Python 3 (ipykernel)",
   "language": "python",
   "name": "python3"
  },
  "language_info": {
   "codemirror_mode": {
    "name": "ipython",
    "version": 3
   },
   "file_extension": ".py",
   "mimetype": "text/x-python",
   "name": "python",
   "nbconvert_exporter": "python",
   "pygments_lexer": "ipython3",
   "version": "3.12.3"
  }
 },
 "nbformat": 4,
 "nbformat_minor": 5
}

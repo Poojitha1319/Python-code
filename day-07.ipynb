{
 "cells": [
  {
   "cell_type": "code",
   "execution_count": 3,
   "id": "7fea4715-c0b1-4183-b2db-0c555947acee",
   "metadata": {},
   "outputs": [
    {
     "name": "stdout",
     "output_type": "stream",
     "text": [
      "reverse of the string is GFEDCBA\n"
     ]
    }
   ],
   "source": [
    "# To reverse words in a given string\n",
    "def x(string):\n",
    "    return string[::-1]\n",
    "\n",
    "print(\"reverse of the string is\",x(\"ABCDEFG\"))"
   ]
  },
  {
   "cell_type": "code",
   "execution_count": 1,
   "id": "8dc54c00-d30f-449b-8ffa-02160404db75",
   "metadata": {},
   "outputs": [
    {
     "name": "stdin",
     "output_type": "stream",
     "text": [
      " abcdefg\n"
     ]
    },
    {
     "name": "stdout",
     "output_type": "stream",
     "text": [
      "g\n",
      "f\n",
      "e\n",
      "d\n",
      "c\n",
      "b\n",
      "a\n"
     ]
    }
   ],
   "source": [
    "a=input()\n",
    "for i in range(0,len(a)):\n",
    "    print(a[-1*(i+1)])"
   ]
  },
  {
   "cell_type": "code",
   "execution_count": 3,
   "id": "7d03bdf2-ce65-4bef-a1d4-a74d3cbb8a16",
   "metadata": {},
   "outputs": [
    {
     "name": "stdin",
     "output_type": "stream",
     "text": [
      " this is a car\n"
     ]
    },
    {
     "name": "stdout",
     "output_type": "stream",
     "text": [
      "rac a si siht"
     ]
    }
   ],
   "source": [
    "a=input()\n",
    "s=[]\n",
    "for e in a:\n",
    "    s.append(e)\n",
    "\n",
    "while len(s)>0:\n",
    "    print(s.pop(),end=\"\")"
   ]
  },
  {
   "cell_type": "code",
   "execution_count": 8,
   "id": "104b8b79-3fd0-43c7-adbb-cbe2f5a10dbd",
   "metadata": {},
   "outputs": [
    {
     "name": "stdout",
     "output_type": "stream",
     "text": [
      "sneha karuna poojitha\n"
     ]
    }
   ],
   "source": [
    "def reversewords(s):\n",
    "    words=s.split(' ')\n",
    "    reverse_str=' '.join(reversed(words))\n",
    "    return reverse_str\n",
    "\n",
    "s1=\"poojitha karuna sneha\"\n",
    "print(reversewords(s1))"
   ]
  },
  {
   "cell_type": "code",
   "execution_count": 10,
   "id": "8a8a634b-c6a1-420a-b4e0-bbb746067186",
   "metadata": {},
   "outputs": [
    {
     "name": "stdin",
     "output_type": "stream",
     "text": [
      " this is a car\n"
     ]
    },
    {
     "name": "stdout",
     "output_type": "stream",
     "text": [
      "car a is this "
     ]
    }
   ],
   "source": [
    "a=input()\n",
    "s=[]\n",
    "for e in a.split():\n",
    "    s.append(e)\n",
    "\n",
    "while len(s)>0:\n",
    "    print(s.pop(),end=' ')"
   ]
  },
  {
   "cell_type": "code",
   "execution_count": 17,
   "id": "21829011-a30b-49e9-9abb-cb6bcf5d2f08",
   "metadata": {},
   "outputs": [
    {
     "name": "stdin",
     "output_type": "stream",
     "text": [
      " thi is a car\n"
     ]
    },
    {
     "name": "stdout",
     "output_type": "stream",
     "text": [
      "4\n",
      "car\n",
      "3\n",
      "a\n",
      "2\n",
      "is\n",
      "1\n",
      "thi\n"
     ]
    }
   ],
   "source": [
    "a=input()\n",
    "s=[]\n",
    "for e in a.split():\n",
    "    s.append(e)\n",
    "\n",
    "while len(s)>0:\n",
    "    print(len(s))\n",
    "    print(s.pop())"
   ]
  },
  {
   "cell_type": "code",
   "execution_count": null,
   "id": "80f7a36d-3970-4b09-8074-0b7770531678",
   "metadata": {},
   "outputs": [],
   "source": [
    "^=3\n",
    "*,/=2\n",
    "+,- =1"
   ]
  },
  {
   "cell_type": "code",
   "execution_count": 15,
   "id": "f448f4ed-0f28-495a-85e2-3cc1b4477d80",
   "metadata": {},
   "outputs": [
    {
     "name": "stdin",
     "output_type": "stream",
     "text": [
      " (a+b)*c\n"
     ]
    },
    {
     "name": "stdout",
     "output_type": "stream",
     "text": [
      " ab+c*\n"
     ]
    }
   ],
   "source": [
    "def prec(e):\n",
    "    if e==\"^\":\n",
    "        return 3\n",
    "    if e ==\"*\" or e ==\"/\":\n",
    "        return 2\n",
    "    if e ==\"+\" or e ==\"-\":\n",
    "        return 1\n",
    "    else:\n",
    "        return 0\n",
    "\n",
    "def asoc(e):\n",
    "    if e ==\"^\":\n",
    "        return 'R'\n",
    "    else:\n",
    "        return 'L'\n",
    "        \n",
    "exp=input()\n",
    "s=[]\n",
    "result=\" \"\n",
    "for e in exp:\n",
    "    if e.isalnum():\n",
    "        result +=e\n",
    "    elif e=='(':\n",
    "        s.append(e)\n",
    "    elif e==')':\n",
    "        while s[-1]!='(':\n",
    "            result+=s.pop()\n",
    "        s.pop() \n",
    "\n",
    "    else:\n",
    "        while s and prec(e)<=prec(s[-1]) and asoc(e)=='L':\n",
    "            result +=s.pop()\n",
    "        s.append(e)\n",
    "\n",
    "while s:\n",
    "    result +=s.pop()\n",
    "\n",
    "print(result)"
   ]
  },
  {
   "cell_type": "markdown",
   "id": "b1d45215-eb5c-4110-baaa-0e48b03ca0af",
   "metadata": {},
   "source": [
    "In a arcade game,there is a king who got spelled by a witch that whenever he eat he have to take care of what is sequence of\n",
    "his food intake.\n",
    "if he eats similar food once after other it will cancel out the its effect and total energy was decreased.\n",
    "your task is to determine the total energy of the king after his meal\n",
    "\n",
    "example:\n",
    "[\"apple\",\"dal\",\"chapati\",\"rice\",\"rice\",\"apple\",\"apple\",\"dal\",\"rice\",\"dal\",\"chapati\",\"chapati\"]\n",
    "\n",
    "consider that energy released by each item will be same which is 1 unit\n",
    "\n",
    "so that total energy intake is 6 unit as per above example:\n",
    "[\"apple\",\"dal\",\"chapati\",\"dal\",\"rice\",\"dal\"]\n",
    "\n",
    "write a code to find the energy stored by the king after have all the food."
   ]
  },
  {
   "cell_type": "code",
   "execution_count": 23,
   "id": "baed857d-4cc7-4bc4-9b4e-a341a2eec7c9",
   "metadata": {},
   "outputs": [
    {
     "name": "stdin",
     "output_type": "stream",
     "text": [
      " A D C R R A A C R D C C\n"
     ]
    },
    {
     "name": "stdout",
     "output_type": "stream",
     "text": [
      "['A', 'D', 'C', 'R', 'R', 'A', 'A', 'C', 'R', 'D', 'C', 'C']\n",
      "4 ['A', 'D', 'R', 'D']\n"
     ]
    }
   ],
   "source": [
    "a=[item for item in input().split()]\n",
    "print(a)\n",
    "s=[]\n",
    "for item in a:\n",
    "    if not s:\n",
    "        s.append(item)\n",
    "    elif s[-1] == item:\n",
    "        s.pop()\n",
    "    else:\n",
    "        s.append(item)\n",
    "print(len(s),s)"
   ]
  },
  {
   "cell_type": "code",
   "execution_count": 11,
   "id": "d67dd79d-249d-4601-93fc-417915f4e0ee",
   "metadata": {},
   "outputs": [
    {
     "name": "stdin",
     "output_type": "stream",
     "text": [
      " ({}{\n"
     ]
    },
    {
     "name": "stdout",
     "output_type": "stream",
     "text": [
      "valid string\n"
     ]
    }
   ],
   "source": [
    "s=input()\n",
    "s=[]\n",
    "for e in s:\n",
    "    if e =='(' or e =='{'or e =='[':\n",
    "        s.append(e)\n",
    "    elif (e == ')' and s[-1]=='(') or (e == '}' and s[-1]=='{') or (e == ']' and s[-1]=='['):\n",
    "            s.pop()\n",
    "    else:\n",
    "        continue\n",
    "if not s:\n",
    "    print(\"valid string\")\n",
    "else:\n",
    "    print(\"invalid string\")  \n"
   ]
  },
  {
   "cell_type": "code",
   "execution_count": 6,
   "id": "2abdaf9c-0bdd-4548-a710-d8c49097a675",
   "metadata": {},
   "outputs": [
    {
     "name": "stdout",
     "output_type": "stream",
     "text": [
      "3\n",
      "2\n",
      "1\n",
      "0\n"
     ]
    }
   ],
   "source": [
    "# Recurrsion\n",
    "def fun(x):\n",
    "    if x==0:     # base class\n",
    "        return x  # base class\n",
    "    print (x)    # body recurrsion\n",
    "    return fun(x-1)\n",
    "\n",
    "print(fun(3))"
   ]
  },
  {
   "cell_type": "code",
   "execution_count": null,
   "id": "09a70963-a4b2-4624-9f05-df8865dcd738",
   "metadata": {},
   "outputs": [],
   "source": []
  }
 ],
 "metadata": {
  "kernelspec": {
   "display_name": "Python 3 (ipykernel)",
   "language": "python",
   "name": "python3"
  },
  "language_info": {
   "codemirror_mode": {
    "name": "ipython",
    "version": 3
   },
   "file_extension": ".py",
   "mimetype": "text/x-python",
   "name": "python",
   "nbconvert_exporter": "python",
   "pygments_lexer": "ipython3",
   "version": "3.12.3"
  }
 },
 "nbformat": 4,
 "nbformat_minor": 5
}

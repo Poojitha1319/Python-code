{
 "cells": [
  {
   "cell_type": "code",
   "execution_count": 19,
   "id": "60da803b-26f8-402b-a489-2767627865f0",
   "metadata": {},
   "outputs": [
    {
     "name": "stdout",
     "output_type": "stream",
     "text": [
      "[1, 2, 3, 4, 5]\n",
      "4\n",
      "[1, 2, 3, 5, 10]\n",
      "[1, 2, 3, 5, 10, 6, 7, 3]\n",
      "2\n",
      "2\n",
      "[1, 2, 3, 5, 10, 6, 7, 3]\n",
      "[1, 2, 3, 5, 9, 10, 6, 7, 3]\n",
      "[1, 2, 5, 9, 10, 6, 7, 3]\n",
      "[1, 2, 3, 5, 6, 7, 9, 10]\n",
      "[10, 9, 7, 6, 5, 3, 2, 1]\n",
      "8\n",
      "[10, 9, 7, 6, 5, 3, 2, 1, 1, 2, 3, 4, 5]\n",
      "[10, 9, 7, 6, 5, 3, 2, 1, 1, 2, 3, 4, 5, 1, 2, 3, 4, 5]\n"
     ]
    }
   ],
   "source": [
    "#copy function\n",
    "a=[1,2,3,4,5]\n",
    "b=a.copy()\n",
    "print(b)\n",
    "c=b.pop(3)\n",
    "print(c)\n",
    "b.append(10)\n",
    "print(b)\n",
    "b.append(6)\n",
    "b.append(7)\n",
    "b.append(3)\n",
    "print(b)\n",
    "print(b.index(3))\n",
    "print(b.count(3))\n",
    "print(b)\n",
    "b.insert(4,9)\n",
    "print(b)\n",
    "b.remove(3)\n",
    "print(b)\n",
    "b.sort()\n",
    "print(b)\n",
    "b.sort(reverse=True)\n",
    "print(b)\n",
    "print(len(b))\n",
    "b.extend(a)\n",
    "print(b)\n",
    "print(b+a)\n"
   ]
  },
  {
   "cell_type": "code",
   "execution_count": 20,
   "id": "954c618c-9383-48f9-903e-cac47159c27a",
   "metadata": {},
   "outputs": [
    {
     "name": "stdout",
     "output_type": "stream",
     "text": [
      "10\n",
      "9\n",
      "7\n",
      "6\n",
      "5\n",
      "3\n",
      "2\n",
      "1\n",
      "1\n",
      "2\n",
      "3\n",
      "4\n",
      "5\n",
      "1\n",
      "2\n",
      "3\n",
      "4\n",
      "5\n"
     ]
    }
   ],
   "source": [
    "a=[10, 9, 7, 6, 5, 3, 2, 1, 1, 2, 3, 4, 5, 1, 2, 3, 4, 5]\n",
    "for x in a:\n",
    "    print(x)\n"
   ]
  },
  {
   "cell_type": "code",
   "execution_count": 1,
   "id": "60cb4ec0-2e95-4534-9bc8-afad037be2f5",
   "metadata": {},
   "outputs": [
    {
     "name": "stdin",
     "output_type": "stream",
     "text": [
      "Enter the size of list:   3\n",
      " 7\n",
      " 3\n",
      " 5\n"
     ]
    },
    {
     "name": "stdout",
     "output_type": "stream",
     "text": [
      "['7', '3', '5']\n"
     ]
    }
   ],
   "source": [
    "n=int(input(\"Enter the size of list: \"))\n",
    "a=[]\n",
    "for x in range(0,n):\n",
    "    x=input()\n",
    "    a.append(x)\n",
    "print(a)    \n",
    "    "
   ]
  },
  {
   "cell_type": "code",
   "execution_count": 4,
   "id": "838a2d1b-6dc8-4e74-a54a-540a59e004c5",
   "metadata": {},
   "outputs": [
    {
     "name": "stdin",
     "output_type": "stream",
     "text": [
      "Enter the elements of the list: 1 2 3 4 5 6 7\n"
     ]
    },
    {
     "name": "stdout",
     "output_type": "stream",
     "text": [
      "[1, 2, 3, 4, 5, 6, 7]\n"
     ]
    }
   ],
   "source": [
    "l=[int(item)for item in (input(\"Enter the elements of the list:\").split())]\n",
    "print(l)"
   ]
  },
  {
   "cell_type": "code",
   "execution_count": 13,
   "id": "64bf986e-dcc7-4a51-9e03-51c1fbb541c7",
   "metadata": {},
   "outputs": [
    {
     "name": "stdout",
     "output_type": "stream",
     "text": [
      "(1, 2, 3, 4, 5.5, 'pooja')\n",
      "[1, 2, 3, 4, 5.5, 'pooja']\n",
      "(1, 2, 3, 4, 5.5, 'poojitha')\n"
     ]
    }
   ],
   "source": [
    "#Tuples\n",
    "a=(1,2,3,4,5.5,\"pooja\")\n",
    "print(a)\n",
    "\n",
    "b=list(a)\n",
    "print(b)\n",
    "b[5]=\"poojitha\"\n",
    "\n",
    "a=tuple(b)\n",
    "print(a)\n",
    "            "
   ]
  },
  {
   "cell_type": "code",
   "execution_count": 9,
   "id": "387dbb0d-6eed-47a0-a4cc-341369a853b3",
   "metadata": {},
   "outputs": [
    {
     "name": "stdout",
     "output_type": "stream",
     "text": [
      "original list: [1, 2, 3, 4, 5]\n",
      "reversed list: [5, 4, 3, 2, 1]\n"
     ]
    }
   ],
   "source": [
    "my_list=[1,2,3,4,5]\n",
    "reversed_list=[]\n",
    "for i in range(len(my_list)-1,-1,-1):\n",
    "    reversed_list.append(my_list[i])\n",
    "print(\"original list:\",my_list)\n",
    "print(\"reversed list:\",reversed_list)"
   ]
  },
  {
   "cell_type": "code",
   "execution_count": 12,
   "id": "8473dd30-515d-4a19-9fa1-6e6c13e96123",
   "metadata": {},
   "outputs": [
    {
     "name": "stdout",
     "output_type": "stream",
     "text": [
      "9\n",
      "8\n",
      "7\n",
      "6\n",
      "5\n",
      "4\n",
      "3\n",
      "2\n",
      "1\n"
     ]
    }
   ],
   "source": [
    "a=(1,2,3,4,5,6,7,8,9)\n",
    "for x in range(-1,-1*(len(a)+1),-1):\n",
    "    print(a[x])\n",
    "              "
   ]
  },
  {
   "cell_type": "code",
   "execution_count": 16,
   "id": "bc81ecc6-e139-4911-a052-4aafaf003f8a",
   "metadata": {},
   "outputs": [
    {
     "name": "stdout",
     "output_type": "stream",
     "text": [
      "1\n",
      "3\n",
      "5\n",
      "7\n",
      "9\n"
     ]
    }
   ],
   "source": [
    "a=(1,2,3,4,5,6,7,8,9)\n",
    "for x in range(len(a),0,-2):\n",
    "    print(a[-1*x])"
   ]
  },
  {
   "cell_type": "code",
   "execution_count": 23,
   "id": "49675799-6053-4af7-836e-b089123cf3ec",
   "metadata": {},
   "outputs": [
    {
     "name": "stdout",
     "output_type": "stream",
     "text": [
      "{1: 'poojitha', 2: 'karuna', 3: 'sneha', 4: 'bhoomi'}\n",
      "poojitha\n",
      "dict_keys([1, 2, 3, 4])\n",
      "dict_values(['poojitha', 'karuna', 'sneha', 'bhoomi'])\n",
      "dict_items([(1, 'poojitha'), (2, 'karuna'), (3, 'sneha'), (4, 'bhoomi')])\n",
      "None\n"
     ]
    }
   ],
   "source": [
    "#dictionary it is set of key and values ; key values pair\n",
    "#we can use key as subscripit also\n",
    "d={1:\"poojitha\",2:\"karuna\",3:\"sneha\",4:\"bhoomi\"}\n",
    "print(d)\n",
    "print(d[1])\n",
    "print(d.keys())\n",
    "print(d.values())\n",
    "print(d.items())\n",
    "\n",
    "print(d.get(5))"
   ]
  },
  {
   "cell_type": "code",
   "execution_count": 2,
   "id": "4ee0294b-ef0d-41da-b650-bf6840fd9fa9",
   "metadata": {},
   "outputs": [
    {
     "name": "stdin",
     "output_type": "stream",
     "text": [
      "enter the key: 3\n",
      "enter the value: 3\n"
     ]
    },
    {
     "name": "stdout",
     "output_type": "stream",
     "text": [
      "dict_keys([1, 2, 3])\n",
      "dict_values(['abcd', 'efgh', 'ijkl'])\n",
      "{1: 'abcd', 2: 'efgh', 3: 'ijkl', 4: 'bitm'}\n",
      "efgh\n",
      "dict_items([(1, 'abcd'), (2, 'efgh'), (3, 'ijkl'), (4, 'bitm')])\n",
      "bitm\n"
     ]
    }
   ],
   "source": [
    "# write a program to take key and value as a input from user and add it into the dictionary if key is not present in dictionary\n",
    "# otherwise print key already exists and print value.\n",
    "\n",
    "key=int(input(\"enter the key:\"))\n",
    "value=int(input(\"enter the value:\"))\n",
    "d={1:\"abcd\",2:\"efgh\",3:\"ijkl\"}\n",
    "print(d.keys())\n",
    "print(d.values())\n",
    "d[4]=\"bitm\"\n",
    "print(d)\n",
    "print(d[2])\n",
    "print(d.items())\n",
    "print(d.get(4))\n",
    "\n",
    "\n"
   ]
  },
  {
   "cell_type": "code",
   "execution_count": 10,
   "id": "4e281d0a-8cee-4d38-9d3d-5fc3c3e7c051",
   "metadata": {},
   "outputs": [
    {
     "name": "stdin",
     "output_type": "stream",
     "text": [
      " 89\n",
      " 56\n"
     ]
    },
    {
     "name": "stdout",
     "output_type": "stream",
     "text": [
      "1.5892857142857142\n",
      "division sucessfull\n",
      "1.5892857142857142\n",
      "error handelled\n",
      "we have received the result as : 1.5892857142857142\n"
     ]
    }
   ],
   "source": [
    "#error exception\n",
    "a=int(input())\n",
    "b=int(input())\n",
    "c=a/b\n",
    "try:\n",
    "    print(c)\n",
    "except:\n",
    "    print(\"we can't divide\")\n",
    "else:\n",
    "    print(\"division sucessfull\")\n",
    "    print(c)\n",
    "finally:\n",
    "    print(\"error handelled\")\n",
    "    print(\"we have received the result as :\",c)\n"
   ]
  },
  {
   "cell_type": "code",
   "execution_count": 8,
   "id": "cfc1b93b-ef46-4fe2-aaf4-9b90a0819251",
   "metadata": {},
   "outputs": [
    {
     "name": "stdin",
     "output_type": "stream",
     "text": [
      "Enter the index:  10\n"
     ]
    },
    {
     "name": "stdout",
     "output_type": "stream",
     "text": [
      "the index is not available\n"
     ]
    }
   ],
   "source": [
    "a=[1,2,3,4,5,6,7]\n",
    "n=int(input(\"Enter the index: \"))\n",
    "try:\n",
    "    print(a[n])\n",
    "except:\n",
    "    print(\"the index is not available\")\n",
    "else:\n",
    "    print(\"the index is available\")\n",
    "\n"
   ]
  },
  {
   "cell_type": "code",
   "execution_count": 11,
   "id": "e4553870-fd99-4848-b72e-d0300ec1c39c",
   "metadata": {},
   "outputs": [
    {
     "name": "stdin",
     "output_type": "stream",
     "text": [
      " 7\n",
      " 9\n"
     ]
    },
    {
     "name": "stdout",
     "output_type": "stream",
     "text": [
      "code execution done\n"
     ]
    },
    {
     "ename": "NameError",
     "evalue": "name 'valueError' is not defined",
     "output_type": "error",
     "traceback": [
      "\u001b[1;31m---------------------------------------------------------------------------\u001b[0m",
      "\u001b[1;31mTypeError\u001b[0m                                 Traceback (most recent call last)",
      "Cell \u001b[1;32mIn[11], line 5\u001b[0m\n\u001b[0;32m      4\u001b[0m     c\u001b[38;5;241m=\u001b[39m\u001b[38;5;28mint\u001b[39m(a)\u001b[38;5;241m/\u001b[39m\u001b[38;5;28mint\u001b[39m(b)\n\u001b[1;32m----> 5\u001b[0m     x\u001b[38;5;241m=\u001b[39m\u001b[38;5;124;43m\"\u001b[39;49m\u001b[38;5;124;43mhello\u001b[39;49m\u001b[38;5;124;43m\"\u001b[39;49m\u001b[38;5;241;43m/\u001b[39;49m\u001b[38;5;241;43m3\u001b[39;49m\n\u001b[0;32m      6\u001b[0m \u001b[38;5;28;01mexcept\u001b[39;00m valueError: \n",
      "\u001b[1;31mTypeError\u001b[0m: unsupported operand type(s) for /: 'str' and 'int'",
      "\nDuring handling of the above exception, another exception occurred:\n",
      "\u001b[1;31mNameError\u001b[0m                                 Traceback (most recent call last)",
      "Cell \u001b[1;32mIn[11], line 6\u001b[0m\n\u001b[0;32m      4\u001b[0m     c\u001b[38;5;241m=\u001b[39m\u001b[38;5;28mint\u001b[39m(a)\u001b[38;5;241m/\u001b[39m\u001b[38;5;28mint\u001b[39m(b)\n\u001b[0;32m      5\u001b[0m     x\u001b[38;5;241m=\u001b[39m\u001b[38;5;124m\"\u001b[39m\u001b[38;5;124mhello\u001b[39m\u001b[38;5;124m\"\u001b[39m\u001b[38;5;241m/\u001b[39m\u001b[38;5;241m3\u001b[39m\n\u001b[1;32m----> 6\u001b[0m \u001b[38;5;28;01mexcept\u001b[39;00m \u001b[43mvalueError\u001b[49m: \n\u001b[0;32m      7\u001b[0m     \u001b[38;5;28mprint\u001b[39m(\u001b[38;5;124m\"\u001b[39m\u001b[38;5;124mvalue unable to convert\u001b[39m\u001b[38;5;124m\"\u001b[39m)\n\u001b[0;32m      8\u001b[0m \u001b[38;5;28;01mexcept\u001b[39;00m zeroDivisionError:\n",
      "\u001b[1;31mNameError\u001b[0m: name 'valueError' is not defined"
     ]
    }
   ],
   "source": [
    "try:\n",
    "    a=input()\n",
    "    b=input()\n",
    "    c=int(a)/int(b)\n",
    "    x=\"hello\"/3\n",
    "except valueError: \n",
    "    print(\"value unable to convert\")\n",
    "except zeroDivisionError:\n",
    "    print(\"can't Divide by zero\")\n",
    "except:\n",
    "    print(\"some unknown error found\")\n",
    "else:\n",
    "    print(\"no error\")\n",
    "finally:\n",
    "    print(\"code execution done\")"
   ]
  },
  {
   "cell_type": "code",
   "execution_count": null,
   "id": "51b81f16-4ebb-4f0d-84d0-4be6a92375af",
   "metadata": {},
   "outputs": [],
   "source": []
  }
 ],
 "metadata": {
  "kernelspec": {
   "display_name": "Python 3 (ipykernel)",
   "language": "python",
   "name": "python3"
  },
  "language_info": {
   "codemirror_mode": {
    "name": "ipython",
    "version": 3
   },
   "file_extension": ".py",
   "mimetype": "text/x-python",
   "name": "python",
   "nbconvert_exporter": "python",
   "pygments_lexer": "ipython3",
   "version": "3.12.3"
  }
 },
 "nbformat": 4,
 "nbformat_minor": 5
}

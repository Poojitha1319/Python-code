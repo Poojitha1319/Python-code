{
 "cells": [
  {
   "cell_type": "markdown",
   "id": "e1ae3cac-4c7e-42d7-9aed-59301ad44599",
   "metadata": {},
   "source": [
    "Oops Concept"
   ]
  },
  {
   "cell_type": "code",
   "execution_count": 2,
   "id": "6a7e735c-cd95-444f-b8e4-82f73bf02086",
   "metadata": {},
   "outputs": [
    {
     "name": "stdout",
     "output_type": "stream",
     "text": [
      "<class 'int'>\n"
     ]
    }
   ],
   "source": [
    "a=5\n",
    "print(type(a))"
   ]
  },
  {
   "cell_type": "code",
   "execution_count": 33,
   "id": "5439dd3e-b606-449c-bd0f-494435139fbf",
   "metadata": {},
   "outputs": [
    {
     "name": "stdout",
     "output_type": "stream",
     "text": [
      "100\n",
      "20\n"
     ]
    }
   ],
   "source": [
    "class laptop:                                             #global variable\n",
    "    a=100\n",
    "    def config(self):\n",
    "        print(\"this laptop have i5 8gm ram 1TB SSD\")\n",
    "        \n",
    "    def __init__(self,value):\n",
    "         self.b=value\n",
    "acer=laptop(20)\n",
    "print(acer.a)\n",
    "print(acer.b)"
   ]
  },
  {
   "cell_type": "markdown",
   "id": "504724de-d9db-4f4f-a4c3-86254f330d24",
   "metadata": {},
   "source": [
    "#Create a laptop class with variable as processor,ram and storage\n",
    "#Create function to print the configuration of the laptops.\n",
    "#Create 3 object of laptop with different brand and display its configuration."
   ]
  },
  {
   "cell_type": "code",
   "execution_count": 38,
   "id": "18dc6abd-fbc5-4d6c-9264-c06d191806cc",
   "metadata": {},
   "outputs": [
    {
     "name": "stdout",
     "output_type": "stream",
     "text": [
      "configuration of the laptop is:\n",
      "processor i5\n",
      "ram 8\n",
      "storage 512\n"
     ]
    }
   ],
   "source": [
    "class laptop:\n",
    "    def __init__(self,p,r,s):\n",
    "        self.processor=p\n",
    "        self.ram=r\n",
    "        self.storage=s\n",
    "\n",
    "    def config(self):\n",
    "         print(\"configuration of the laptop is:\")\n",
    "         print(\"processor\",self.processor)\n",
    "         print(\"ram\",self.ram)\n",
    "         print(\"storage\",self.storage)\n",
    "\n",
    "if __name__==\"__main__\":\n",
    "    hp=laptop(\"i5\",8,512)\n",
    "    hp.config()"
   ]
  },
  {
   "cell_type": "markdown",
   "id": "0335697e-a0a7-4607-901a-9d8aed844929",
   "metadata": {},
   "source": [
    "#Create a class student which can hold the marks in 5 subjects and also create a functions to print the marks and\n",
    "calulate the avg of 5 subjects"
   ]
  },
  {
   "cell_type": "code",
   "execution_count": 49,
   "id": "99028ade-7fef-4979-8e83-465397162cc1",
   "metadata": {},
   "outputs": [
    {
     "name": "stdout",
     "output_type": "stream",
     "text": [
      "marks in 5 subjects is:\n",
      "java 45\n",
      "maths 50\n",
      "os 47\n",
      "dsa 49\n",
      "dco 42\n"
     ]
    }
   ],
   "source": [
    "class student:\n",
    "    def __init__(self,j,m,o,d,c):\n",
    "        self.java=j\n",
    "        self.maths=m\n",
    "        self.os=o\n",
    "        self.dsa=d\n",
    "        self.dco=c\n",
    "    def config(self):\n",
    "         print(\"marks in 5 subjects is:\")\n",
    "         print(\"java\",self.java)\n",
    "         print(\"maths\",self.maths)\n",
    "         print(\"os\",self.os)\n",
    "         print(\"dsa\",self.dsa)\n",
    "         print(\"dco\",self.dco)\n",
    "         \n",
    "         \n",
    "if __name__==\"__main__\":\n",
    "    a=student(45,50,47,49,42)\n",
    "    a.config()"
   ]
  },
  {
   "cell_type": "code",
   "execution_count": 54,
   "id": "52b862f7-f830-4608-b1ec-07fc0a52f858",
   "metadata": {},
   "outputs": [
    {
     "name": "stdout",
     "output_type": "stream",
     "text": [
      "1\n",
      "2\n",
      "3\n"
     ]
    }
   ],
   "source": [
    "#Access Modifiers\n",
    "#Public normal\n",
    "#Protected_\n",
    "#Private_\n",
    "\n",
    "class demo:\n",
    "    def __init__(self,a,b,c):\n",
    "        self.x=a\n",
    "        self._y=b\n",
    "        self.__z=c\n",
    "\n",
    "    def output_z(self):\n",
    "        print(self.__z)\n",
    "    def output_x(self):\n",
    "        print(self.x)\n",
    "    def output_y(self):\n",
    "        print(self._y)\n",
    "ob1=demo(1,2,3)\n",
    "ob1.output_x()\n",
    "ob1.output_y()\n",
    "ob1.output_z()\n",
    "        \n",
    "    "
   ]
  },
  {
   "cell_type": "code",
   "execution_count": 7,
   "id": "9ef63e29-f1e9-47b3-a6d0-3767a4d969bd",
   "metadata": {},
   "outputs": [
    {
     "name": "stdout",
     "output_type": "stream",
     "text": [
      "this is fun1\n",
      "this is fun2\n",
      "this is fun3\n",
      "this is fun4\n",
      "this is fun5\n",
      "this is fun6\n"
     ]
    }
   ],
   "source": [
    "class a:\n",
    "    def fun1(self):\n",
    "        print(\"this is fun1\")\n",
    "    def fun2(self):\n",
    "        print(\"this is fun2\")\n",
    "\n",
    "class b:\n",
    "    def fun3(self):\n",
    "        print(\"this is fun3\")\n",
    "    def fun4(self):\n",
    "        print(\"this is fun4\")\n",
    "\n",
    "class c(b):\n",
    "    def fun5(self):\n",
    "        print(\"this is fun5\")\n",
    "    def fun6(self):\n",
    "        print(\"this is fun6\")\n",
    "\n",
    "if __name__==\"__main__\":\n",
    "    ob1=a()\n",
    "    ob2=b()\n",
    "    ob3=c()\n",
    "\n",
    "ob1.fun1()\n",
    "ob1.fun2()\n",
    "ob2.fun3()\n",
    "ob2.fun4()\n",
    "ob3.fun5()\n",
    "ob3.fun6()"
   ]
  },
  {
   "cell_type": "code",
   "execution_count": 19,
   "id": "06a5e8ad-97d8-4f78-bb0f-e9bdcefac349",
   "metadata": {},
   "outputs": [
    {
     "name": "stdout",
     "output_type": "stream",
     "text": [
      "conctructor of class D\n"
     ]
    }
   ],
   "source": [
    "class a:\n",
    "    def __init__(self):\n",
    "        print(\"conctructor of class A\")\n",
    "        \n",
    "class b(a):\n",
    "    def __init__(self):\n",
    "        print(\"conctructor of class B\")\n",
    "\n",
    "class c(a):\n",
    "    def __init__(self):\n",
    "        print(\"conctructor of class C\")\n",
    "\n",
    "class d(b,c):\n",
    "    def __init__(self):\n",
    "        print(\"conctructor of class D\")\n",
    "\n",
    "if __name__==\"__main__\":\n",
    "    ob1=d()      "
   ]
  },
  {
   "cell_type": "code",
   "execution_count": 25,
   "id": "4b7f3658-2be7-4bff-9536-addb8a3ebbc5",
   "metadata": {},
   "outputs": [
    {
     "name": "stdout",
     "output_type": "stream",
     "text": [
      "configuration of the laptop is:\n",
      "processor i5\n",
      "ram 8\n",
      "storage 512\n",
      "configuration of proffessional laptop is:\n",
      "battery 4500mp\n",
      "backup 100\n",
      "configuration of gaming laptop is:\n",
      "graphiccard 6hrs\n"
     ]
    }
   ],
   "source": [
    "class laptop:\n",
    "    def __init__(self,p,r,s):\n",
    "        self.processor=p\n",
    "        self.ram=r\n",
    "        self.storage=s\n",
    "\n",
    "    def config(self):\n",
    "         print(\"configuration of the laptop is:\")\n",
    "         print(\"processor\",self.processor)\n",
    "         print(\"ram\",self.ram)\n",
    "         print(\"storage\",self.storage)\n",
    "\n",
    "if __name__==\"__main__\":\n",
    "    hp=laptop(\"i5\",8,512)\n",
    "    hp.config()\n",
    "\n",
    "class prolaptop(laptop):\n",
    "    def __init__(self,b,k):\n",
    "        self.battery=b\n",
    "        self.backup=k\n",
    "\n",
    "    def config(self):\n",
    "        print(\"configuration of proffessional laptop is:\")\n",
    "        print(\"battery\",self.battery)\n",
    "        print(\"backup\",self.backup)\n",
    "        \n",
    "if __name__==\"__main__\":\n",
    "    hp=prolaptop(\"4500mp\",100)\n",
    "    hp.config()\n",
    "\n",
    "class gaming(laptop):\n",
    "    def __init__(self,g):\n",
    "        self.graphiccard=g\n",
    "    def config(self):\n",
    "        print(\"configuration of gaming laptop is:\")\n",
    "        print(\"graphiccard\",self.graphiccard)\n",
    "\n",
    "if __name__==\"__main__\":\n",
    "    hp=gaming(\"6hrs\")\n",
    "    hp.config()\n",
    "\n",
    "\n",
    "\n",
    "        \n",
    "        \n"
   ]
  },
  {
   "cell_type": "code",
   "execution_count": 4,
   "id": "bfa3bf08-3b41-4d11-833a-e48aa03cdd76",
   "metadata": {},
   "outputs": [
    {
     "name": "stdout",
     "output_type": "stream",
     "text": [
      "professional laptop having 8 512 6 i5\n",
      "gaming laptop having 9 535 2 i7\n"
     ]
    }
   ],
   "source": [
    "class laptop:\n",
    "    def __init__(self,p,r,s):\n",
    "        self.processor=p\n",
    "        self.ram=r\n",
    "        self.storage=s\n",
    "        \n",
    "class prof_laptop(laptop):\n",
    "    def __init__(self,bat,p,r,s):\n",
    "        self.battery=bat\n",
    "        super().__init__(p,r,s)\n",
    "\n",
    "class gaming(laptop):\n",
    "    def __init__(self,graph,p,r,s):\n",
    "        self.graph=graph\n",
    "        super().__init__(p,r,s)\n",
    "\n",
    "pro1=prof_laptop(\"i5\",8,512,6)\n",
    "gam1=gaming(\"i7\",9,535,2)\n",
    "\n",
    "print(\"professional laptop having\",\n",
    "      pro1.processor,pro1.ram,\n",
    "      pro1.storage,pro1.battery)\n",
    "print(\"gaming laptop having\",\n",
    "      gam1.processor,gam1.ram,\n",
    "      gam1.storage,gam1.graph)"
   ]
  },
  {
   "cell_type": "code",
   "execution_count": 2,
   "id": "98165e5b-cd62-4684-b668-3a6368d642c9",
   "metadata": {},
   "outputs": [
    {
     "ename": "NameError",
     "evalue": "name 'none' is not defined",
     "output_type": "error",
     "traceback": [
      "\u001b[1;31m---------------------------------------------------------------------------\u001b[0m",
      "\u001b[1;31mNameError\u001b[0m                                 Traceback (most recent call last)",
      "Cell \u001b[1;32mIn[2], line 35\u001b[0m\n\u001b[0;32m     32\u001b[0m         \u001b[38;5;28mself\u001b[39m\u001b[38;5;241m.\u001b[39mfare_price\u001b[38;5;241m=\u001b[39m\u001b[38;5;28msuper\u001b[39m()\u001b[38;5;241m.\u001b[39mprint_ticket()\u001b[38;5;241m+\u001b[39m(\u001b[38;5;241m5\u001b[39m\u001b[38;5;241m*\u001b[39m\u001b[38;5;28mself\u001b[39m\u001b[38;5;241m.\u001b[39mdistance)\n\u001b[0;32m     33\u001b[0m         \u001b[38;5;28;01mreturn\u001b[39;00m \u001b[38;5;28mself\u001b[39m\u001b[38;5;241m.\u001b[39mfare_price\n\u001b[1;32m---> 35\u001b[0m jur \u001b[38;5;241m=\u001b[39m \u001b[43mfc\u001b[49m\u001b[43m(\u001b[49m\u001b[38;5;241;43m500\u001b[39;49m\u001b[43m)\u001b[49m\n\u001b[0;32m     36\u001b[0m \u001b[38;5;28mprint\u001b[39m(\u001b[38;5;124m\"\u001b[39m\u001b[38;5;124mticket booked fare price will be :\u001b[39m\u001b[38;5;124m\"\u001b[39m,jur\u001b[38;5;241m.\u001b[39mprint_ticket())\n",
      "Cell \u001b[1;32mIn[2], line 30\u001b[0m, in \u001b[0;36mfc.__init__\u001b[1;34m(self, D)\u001b[0m\n\u001b[0;32m     29\u001b[0m \u001b[38;5;28;01mdef\u001b[39;00m \u001b[38;5;21m__init__\u001b[39m(\u001b[38;5;28mself\u001b[39m,D):\n\u001b[1;32m---> 30\u001b[0m     \u001b[38;5;28;43msuper\u001b[39;49m\u001b[43m(\u001b[49m\u001b[43m)\u001b[49m\u001b[38;5;241;43m.\u001b[39;49m\u001b[38;5;21;43m__init__\u001b[39;49m\u001b[43m(\u001b[49m\u001b[43mD\u001b[49m\u001b[43m)\u001b[49m\n",
      "Cell \u001b[1;32mIn[2], line 23\u001b[0m, in \u001b[0;36mac.__init__\u001b[1;34m(self, D)\u001b[0m\n\u001b[0;32m     22\u001b[0m \u001b[38;5;28;01mdef\u001b[39;00m \u001b[38;5;21m__init__\u001b[39m(\u001b[38;5;28mself\u001b[39m,D):\n\u001b[1;32m---> 23\u001b[0m     \u001b[38;5;28;43msuper\u001b[39;49m\u001b[43m(\u001b[49m\u001b[43m)\u001b[49m\u001b[38;5;241;43m.\u001b[39;49m\u001b[38;5;21;43m__init__\u001b[39;49m\u001b[43m(\u001b[49m\u001b[43mD\u001b[49m\u001b[43m)\u001b[49m\n",
      "Cell \u001b[1;32mIn[2], line 16\u001b[0m, in \u001b[0;36mslp.__init__\u001b[1;34m(self, D)\u001b[0m\n\u001b[0;32m     15\u001b[0m \u001b[38;5;28;01mdef\u001b[39;00m \u001b[38;5;21m__init__\u001b[39m(\u001b[38;5;28mself\u001b[39m,D):\n\u001b[1;32m---> 16\u001b[0m     \u001b[38;5;28;43msuper\u001b[39;49m\u001b[43m(\u001b[49m\u001b[43m)\u001b[49m\u001b[38;5;241;43m.\u001b[39;49m\u001b[38;5;21;43m__init__\u001b[39;49m\u001b[43m(\u001b[49m\u001b[43mD\u001b[49m\u001b[43m)\u001b[49m\n",
      "Cell \u001b[1;32mIn[2], line 9\u001b[0m, in \u001b[0;36mgen.__init__\u001b[1;34m(self, D)\u001b[0m\n\u001b[0;32m      8\u001b[0m \u001b[38;5;28;01mdef\u001b[39;00m \u001b[38;5;21m__init__\u001b[39m(\u001b[38;5;28mself\u001b[39m,D):\n\u001b[1;32m----> 9\u001b[0m     \u001b[38;5;28;43msuper\u001b[39;49m\u001b[43m(\u001b[49m\u001b[43m)\u001b[49m\u001b[38;5;241;43m.\u001b[39;49m\u001b[38;5;21;43m__init__\u001b[39;49m\u001b[43m(\u001b[49m\u001b[43mD\u001b[49m\u001b[43m)\u001b[49m\n",
      "Cell \u001b[1;32mIn[2], line 5\u001b[0m, in \u001b[0;36mticket.__init__\u001b[1;34m(self, D)\u001b[0m\n\u001b[0;32m      3\u001b[0m \u001b[38;5;28;01mdef\u001b[39;00m \u001b[38;5;21m__init__\u001b[39m(\u001b[38;5;28mself\u001b[39m,D):\n\u001b[0;32m      4\u001b[0m     \u001b[38;5;28mself\u001b[39m\u001b[38;5;241m.\u001b[39mdistance\u001b[38;5;241m=\u001b[39m\u001b[38;5;28mint\u001b[39m(D)\n\u001b[1;32m----> 5\u001b[0m     \u001b[38;5;28mself\u001b[39m\u001b[38;5;241m.\u001b[39mfare_price \u001b[38;5;241m=\u001b[39m \u001b[43mnone\u001b[49m\n",
      "\u001b[1;31mNameError\u001b[0m: name 'none' is not defined"
     ]
    }
   ],
   "source": [
    "class ticket:\n",
    "    \n",
    "    def __init__(self,D):\n",
    "        self.distance=int(D)\n",
    "        self.fare_price = none\n",
    "\n",
    "class gen(ticket):\n",
    "    def __init__(self,D):\n",
    "        super().__init__(D)\n",
    "    def print_ticket(self):\n",
    "        self.fare_price=50+(self.distance*2)\n",
    "        return self.fare_price\n",
    "        \n",
    "class slp(gen):\n",
    "    def __init__(self,D):\n",
    "        super().__init__(D)\n",
    "    def print_ticket(self):\n",
    "        self.fare_price=super().print_ticket()+(2*self.distance)\n",
    "        return self.fare_price\n",
    "        \n",
    "class ac(slp):\n",
    "    def __init__(self,D):\n",
    "        super().__init__(D)\n",
    "    def print_ticket(self):\n",
    "        self.fare_price=super().print_ticket()+(4*self.distance)\n",
    "        return self.fare_price\n",
    "\n",
    "class fc(ac):\n",
    "    def __init__(self,D):\n",
    "        super().__init__(D)\n",
    "    def print_ticket(self):\n",
    "        self.fare_price=super().print_ticket()+(5*self.distance)\n",
    "        return self.fare_price\n",
    "    \n",
    "jur = fc(500)\n",
    "print(\"ticket booked fare price will be :\",jur.print_ticket())\n",
    "            "
   ]
  },
  {
   "cell_type": "code",
   "execution_count": null,
   "id": "7226f701-d908-4f38-ab71-b5c98863c386",
   "metadata": {},
   "outputs": [],
   "source": []
  }
 ],
 "metadata": {
  "kernelspec": {
   "display_name": "Python 3 (ipykernel)",
   "language": "python",
   "name": "python3"
  },
  "language_info": {
   "codemirror_mode": {
    "name": "ipython",
    "version": 3
   },
   "file_extension": ".py",
   "mimetype": "text/x-python",
   "name": "python",
   "nbconvert_exporter": "python",
   "pygments_lexer": "ipython3",
   "version": "3.12.3"
  }
 },
 "nbformat": 4,
 "nbformat_minor": 5
}

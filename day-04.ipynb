{
 "cells": [
  {
   "cell_type": "code",
   "execution_count": 8,
   "id": "c7e21e79-9495-491e-a67e-604fbd78f2d2",
   "metadata": {},
   "outputs": [
    {
     "name": "stdout",
     "output_type": "stream",
     "text": [
      "car having features:  150hp HA2636 5.99 black hatchback 60 80/hr\n",
      "truck having features:  four-stroke HH6439 9.46 grey 2 6.5ton\n"
     ]
    }
   ],
   "source": [
    "class vehicle:\n",
    "    def __init__(self,e,r,p,c):\n",
    "        self.engine=e\n",
    "        self.reg_plate=r\n",
    "        self.price=p\n",
    "        self.colour=c\n",
    "\n",
    "class car(vehicle):\n",
    "    def __init__(self,t,a,m,e,r,p,c):\n",
    "        self.type=t\n",
    "        self.passanger=a\n",
    "        self.max_speed=m\n",
    "        super().__init__(e,r,p,c)\n",
    "\n",
    "class truck(vehicle):\n",
    "    def __init__(self,x,l,e,r,p,c):\n",
    "        self.axle=x\n",
    "        self.load_capacity=l\n",
    "        super().__init__(e,r,p,c)\n",
    "\n",
    "ob1=car(\"hatchback\",60,\"80/hr\",\"150hp\",\"HA2636\",5.99,\"black\")\n",
    "ob2=truck(2,\"6.5ton\",\"four-stroke\",\"HH6439\",9.46,\"grey\")\n",
    "\n",
    "print(\"car having features: \",ob1.engine,ob1.reg_plate,ob1.price,\n",
    "      ob1.colour,ob1.type,ob1.passanger,ob1.max_speed)\n",
    "print(\"truck having features: \",ob2.engine,ob2.reg_plate,ob2.price,\n",
    "      ob2.colour,ob2.axle,ob2.load_capacity)\n",
    "    \n",
    "    "
   ]
  },
  {
   "cell_type": "code",
   "execution_count": 16,
   "id": "bfa25081-c14d-4bb7-badb-7341b3cce404",
   "metadata": {},
   "outputs": [
    {
     "name": "stdout",
     "output_type": "stream",
     "text": [
      "staff detials:  50000 teacher BITM 132 poojitha\n",
      "developer detials:  77 karuna 50000 front_end_developer B.Tech 5yr\n",
      "manager detials:  142 sneha 50000 java raja\n"
     ]
    }
   ],
   "source": [
    "class employee:\n",
    "    def __init__(self,i,n,s):\n",
    "        self.epID=i\n",
    "        self.epname=n\n",
    "        self.epsal=s\n",
    "\n",
    "class staff(employee):\n",
    "    def __init__(self,t,a,i,n,s):\n",
    "        self.work_type=t\n",
    "        self.work_area=a\n",
    "        super().__init__(i,n,s)\n",
    "\n",
    "class developer(employee):\n",
    "    def __init__(self,m,h,e,i,n,s):\n",
    "        self.module=m\n",
    "        self.tech=h\n",
    "        self.experience=e\n",
    "        super().__init__(i,n,s)\n",
    "\n",
    "class manager(employee):\n",
    "    def __init__(self,p,c,i,n,s):\n",
    "        self.project=p\n",
    "        self.client_name=c\n",
    "        super().__init__(i,n,s)\n",
    "\n",
    "ob1=staff(132,\"poojitha\",50000,\"teacher\",\"BITM\")\n",
    "ob2=developer(\"front_end_developer\",\"B.Tech\",\"5yr\",77,\"karuna\",50000)\n",
    "ob3=manager(\"java\",\"raja\",142,\"sneha\",50000)\n",
    "\n",
    "print(\"staff detials: \",ob1.epID,ob1.epname,ob1.epsal,ob1.work_type,ob1.work_area)\n",
    "print(\"developer detials: \",ob2.epID,ob2.epname,ob2.epsal,ob2.module,ob2.tech,ob2.experience)\n",
    "print(\"manager detials: \",ob3.epID,ob3.epname,ob3.epsal,ob3.project,ob3.client_name)\n",
    "        "
   ]
  },
  {
   "cell_type": "code",
   "execution_count": null,
   "id": "856446fc-9e70-4f0c-8523-627555630534",
   "metadata": {},
   "outputs": [],
   "source": []
  }
 ],
 "metadata": {
  "kernelspec": {
   "display_name": "Python 3 (ipykernel)",
   "language": "python",
   "name": "python3"
  },
  "language_info": {
   "codemirror_mode": {
    "name": "ipython",
    "version": 3
   },
   "file_extension": ".py",
   "mimetype": "text/x-python",
   "name": "python",
   "nbconvert_exporter": "python",
   "pygments_lexer": "ipython3",
   "version": "3.12.3"
  }
 },
 "nbformat": 4,
 "nbformat_minor": 5
}

{
 "cells": [
  {
   "cell_type": "code",
   "execution_count": 9,
   "id": "452ae465-4ba9-4a27-ac3e-1ef6779e655d",
   "metadata": {},
   "outputs": [
    {
     "name": "stdout",
     "output_type": "stream",
     "text": [
      "2\n",
      "4\n",
      "6\n",
      "8\n",
      "10\n",
      "12\n",
      "14\n",
      "16\n",
      "18\n",
      "20\n"
     ]
    }
   ],
   "source": [
    "# print 2 table\n",
    "i=(input)\n",
    "for i in range(1,11):\n",
    "    print(i*2)"
   ]
  },
  {
   "cell_type": "code",
   "execution_count": 12,
   "id": "4bfac587-7541-4a01-896e-97e8cfb0c299",
   "metadata": {},
   "outputs": [
    {
     "name": "stdout",
     "output_type": "stream",
     "text": [
      "2\n",
      "4\n",
      "6\n",
      "8\n",
      "10\n",
      "12\n",
      "14\n",
      "16\n",
      "18\n",
      "20\n"
     ]
    }
   ],
   "source": [
    "# printing table for 2 using recursion\n",
    "def fun(i):\n",
    "    if i == 11:\n",
    "        return\n",
    "    print(i*2)\n",
    "    i=i+1\n",
    "    fun(i)\n",
    "    return\n",
    "\n",
    "fun(1)"
   ]
  },
  {
   "cell_type": "code",
   "execution_count": 46,
   "id": "c58eca8d-fb33-4ccb-86b4-0952b1a7a679",
   "metadata": {},
   "outputs": [
    {
     "name": "stdin",
     "output_type": "stream",
     "text": [
      "enter the number: 5\n"
     ]
    },
    {
     "name": "stdout",
     "output_type": "stream",
     "text": [
      "factorial of a given number: 120\n"
     ]
    }
   ],
   "source": [
    "# factorial of number\n",
    "n=int(input(\"enter the number:\"))\n",
    "factorial=1\n",
    "for i in range(1,n+1):\n",
    "    factorial=factorial*i\n",
    "\n",
    "print(\"factorial of a given number:\",factorial)"
   ]
  },
  {
   "cell_type": "code",
   "execution_count": 52,
   "id": "32195a55-9aaa-4dba-a2f1-d4a93595b7b5",
   "metadata": {},
   "outputs": [
    {
     "name": "stdout",
     "output_type": "stream",
     "text": [
      "120\n"
     ]
    }
   ],
   "source": [
    "def fun(i):\n",
    "    if i==1:\n",
    "        return 1\n",
    "        return i*fun(i-1)\n",
    "    factorial=fun(n)\n",
    "\n",
    "print(factorial)"
   ]
  },
  {
   "cell_type": "code",
   "execution_count": 9,
   "id": "28f7bcf0-d71a-4cc1-bc29-b0d667c5edfa",
   "metadata": {},
   "outputs": [
    {
     "name": "stdin",
     "output_type": "stream",
     "text": [
      "enter the length of series: 10\n"
     ]
    },
    {
     "name": "stdout",
     "output_type": "stream",
     "text": [
      " 1 2 3 5 8 13 21 34 "
     ]
    }
   ],
   "source": [
    "# fibonacci series\n",
    "a=0\n",
    "b=1\n",
    "n=int(input(\"enter the length of series:\"))\n",
    "print(end=\" \")\n",
    "for i in range(0,n-2):\n",
    "    c=a+b\n",
    "    print(c,end=\" \")\n",
    "    a=b\n",
    "    b=c"
   ]
  },
  {
   "cell_type": "code",
   "execution_count": 8,
   "id": "698ae0c0-8124-425b-b29c-42e270b22448",
   "metadata": {},
   "outputs": [
    {
     "name": "stdout",
     "output_type": "stream",
     "text": [
      "[3, 5, 7, 2, 4, 8, 1, 9, 6]\n",
      "6\n",
      "[3, 5, 2, 4, 1, 6, 7, 9, 8]\n",
      "next\n",
      "[3, 5, 2, 4, 1, 6, 7, 9, 8]\n",
      "1\n",
      "[1, 5, 2, 4, 3, 6, 7, 9, 8]\n",
      "next\n",
      "[1, 5, 2, 4, 3, 6, 7, 9, 8]\n",
      "3\n",
      "[1, 2, 3, 4, 5, 6, 7, 9, 8]\n",
      "next\n",
      "[1, 2, 3, 4, 5, 6, 7, 9, 8]\n",
      "5\n",
      "[1, 2, 3, 4, 5, 6, 7, 9, 8]\n",
      "next\n",
      "[1, 2, 3, 4, 5, 6, 7, 9, 8]\n",
      "8\n",
      "[1, 2, 3, 4, 5, 6, 7, 8, 9]\n",
      "next\n",
      "[1, 2, 3, 4, 5, 6, 7, 8, 9]\n"
     ]
    }
   ],
   "source": [
    "# Quick sort\n",
    "def findpe(ar,low,high):\n",
    "    pe=ar[high]\n",
    "    j=low-1\n",
    "    for i in range (low,high):\n",
    "        if pe>ar[i]:\n",
    "            j+=1\n",
    "            ar[i],ar[j]=ar[j],ar[i]\n",
    "    ar[high],ar[j+1]=ar[j+1],ar[high]\n",
    "    return j+1\n",
    "\n",
    "def quicksort(ar,low,high):\n",
    "    if low<high:\n",
    "        print(ar)\n",
    "        pe=findpe(ar,low,high)\n",
    "        print(ar[pe])\n",
    "        print(ar)\n",
    "        print(\"next\")\n",
    "        quicksort(ar,low,pe-1)\n",
    "        quicksort(ar,pe+1,high)\n",
    "# main        \n",
    "ar=[3,5,7,2,4,8,1,9,6]\n",
    "quicksort(ar,0,len(ar)-1)\n",
    "\n",
    "print(ar)"
   ]
  },
  {
   "cell_type": "code",
   "execution_count": 5,
   "id": "f102ba17-6990-49c6-a17d-8c3dc05fe46f",
   "metadata": {},
   "outputs": [
    {
     "name": "stdout",
     "output_type": "stream",
     "text": [
      "a= <__main__.node object at 0x0000019148F97980>\n",
      "b= <__main__.node object at 0x000001914A4DDBB0>\n",
      "c= <__main__.node object at 0x000001914A4DDCA0>\n",
      "d= <__main__.node object at 0x000001914A4DEB70>\n",
      "<__main__.node object at 0x0000019148F97980> -->\n",
      "<__main__.node object at 0x000001914A4DDBB0> -->\n",
      "<__main__.node object at 0x000001914A4DDCA0> -->\n",
      "<__main__.node object at 0x000001914A4DEB70> -->\n"
     ]
    }
   ],
   "source": [
    "# Linked list\n",
    "\n",
    "class node:\n",
    "    def __init__(self,value):\n",
    "        self.data=value\n",
    "        self.next=node\n",
    "\n",
    "a=node(\"apple\")\n",
    "b=node(\"book\")\n",
    "c=node(\"cat\")\n",
    "d=node(\"dog\")\n",
    "\n",
    "head=a\n",
    "head.next=b\n",
    "head.next.next=c\n",
    "head.next.next.next=d\n",
    "\n",
    "print(\"a=\",a)\n",
    "print(\"b=\",b)\n",
    "print(\"c=\",c)\n",
    "print(\"d=\",d)\n",
    "\n",
    "print(head,\"-->\")\n",
    "print(head.next,\"-->\")\n",
    "print(head.next.next,\"-->\")\n",
    "print(head.next.next.next,\"-->\")\n"
   ]
  },
  {
   "cell_type": "code",
   "execution_count": 7,
   "id": "1b0fdc9b-2404-44a0-a8b8-354a52347f28",
   "metadata": {},
   "outputs": [
    {
     "name": "stdout",
     "output_type": "stream",
     "text": [
      "node 1 <__main__.node object at 0x000001914A3ABAA0> 1\n",
      "node 2 <__main__.node object at 0x000001914A3AA570> 2\n",
      "node 3 <__main__.node object at 0x000001914A4EB8F0> 3\n",
      "node 4 <__main__.node object at 0x000001914A4EBA40> 4\n"
     ]
    }
   ],
   "source": [
    "class node:\n",
    "    def __init__(self,value):\n",
    "        self.data=value\n",
    "        self.next=node\n",
    "\n",
    "head=node(1)\n",
    "head.next=node(2)\n",
    "head.next.next=node(3)\n",
    "head.next.next.next=node(4)\n",
    "\n",
    "print(\"node 1\",head,head.data)\n",
    "print(\"node 2\",head.next,head.next.data)\n",
    "print(\"node 3\",head.next.next,head.next.next.data)\n",
    "print(\"node 4\",head.next.next.next,head.next.next.next.data)\n"
   ]
  },
  {
   "cell_type": "code",
   "execution_count": null,
   "id": "b80faedb-e016-4d8a-b828-2386fff26922",
   "metadata": {},
   "outputs": [],
   "source": []
  }
 ],
 "metadata": {
  "kernelspec": {
   "display_name": "Python 3 (ipykernel)",
   "language": "python",
   "name": "python3"
  },
  "language_info": {
   "codemirror_mode": {
    "name": "ipython",
    "version": 3
   },
   "file_extension": ".py",
   "mimetype": "text/x-python",
   "name": "python",
   "nbconvert_exporter": "python",
   "pygments_lexer": "ipython3",
   "version": "3.12.3"
  }
 },
 "nbformat": 4,
 "nbformat_minor": 5
}
